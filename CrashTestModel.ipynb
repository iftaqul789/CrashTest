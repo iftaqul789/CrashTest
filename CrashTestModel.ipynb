{
 "cells": [
  {
   "cell_type": "markdown",
   "id": "e43960ad",
   "metadata": {},
   "source": [
    "# Crash Test Model"
   ]
  },
  {
   "cell_type": "code",
   "execution_count": 31,
   "id": "e92e14bc",
   "metadata": {},
   "outputs": [],
   "source": [
    "#importing modeules\n",
    "\n",
    "import pandas as pd\n",
    "import numpy as np\n",
    "import matplotlib.pyplot as plt\n",
    "import seaborn as sns\n",
    "sns.set()\n",
    "import warnings\n",
    "warnings.filterwarnings(\"ignore\")\n",
    "\n",
    "from sklearn.model_selection import train_test_split\n",
    "from sklearn.linear_model import LogisticRegression\n",
    "from sklearn import tree\n",
    "from sklearn.ensemble import RandomForestClassifier\n",
    "\n",
    "\n",
    "\n",
    "from sklearn.metrics import classification_report\n"
   ]
  },
  {
   "cell_type": "code",
   "execution_count": 2,
   "id": "72eb8272",
   "metadata": {},
   "outputs": [],
   "source": [
    "#importing data_sets\n",
    "\n",
    "crash_data = pd.read_csv(\"crashTest.csv\")"
   ]
  },
  {
   "cell_type": "code",
   "execution_count": 3,
   "id": "78c4506c",
   "metadata": {},
   "outputs": [
    {
     "data": {
      "text/html": [
       "<div>\n",
       "<style scoped>\n",
       "    .dataframe tbody tr th:only-of-type {\n",
       "        vertical-align: middle;\n",
       "    }\n",
       "\n",
       "    .dataframe tbody tr th {\n",
       "        vertical-align: top;\n",
       "    }\n",
       "\n",
       "    .dataframe thead th {\n",
       "        text-align: right;\n",
       "    }\n",
       "</style>\n",
       "<table border=\"1\" class=\"dataframe\">\n",
       "  <thead>\n",
       "    <tr style=\"text-align: right;\">\n",
       "      <th></th>\n",
       "      <th>CarID</th>\n",
       "      <th>ManHI</th>\n",
       "      <th>ManBI</th>\n",
       "      <th>IntI</th>\n",
       "      <th>HVACi</th>\n",
       "      <th>Safety</th>\n",
       "      <th>CarType</th>\n",
       "    </tr>\n",
       "  </thead>\n",
       "  <tbody>\n",
       "    <tr>\n",
       "      <th>0</th>\n",
       "      <td>1</td>\n",
       "      <td>-5.27</td>\n",
       "      <td>-1.30</td>\n",
       "      <td>2.86</td>\n",
       "      <td>-4.85</td>\n",
       "      <td>4.04</td>\n",
       "      <td>SUV</td>\n",
       "    </tr>\n",
       "    <tr>\n",
       "      <th>1</th>\n",
       "      <td>2</td>\n",
       "      <td>-4.82</td>\n",
       "      <td>-5.38</td>\n",
       "      <td>9.72</td>\n",
       "      <td>-0.97</td>\n",
       "      <td>-4.57</td>\n",
       "      <td>Hatchback</td>\n",
       "    </tr>\n",
       "    <tr>\n",
       "      <th>2</th>\n",
       "      <td>3</td>\n",
       "      <td>9.57</td>\n",
       "      <td>-7.50</td>\n",
       "      <td>-7.61</td>\n",
       "      <td>1.33</td>\n",
       "      <td>-5.10</td>\n",
       "      <td>Hatchback</td>\n",
       "    </tr>\n",
       "    <tr>\n",
       "      <th>3</th>\n",
       "      <td>4</td>\n",
       "      <td>2.84</td>\n",
       "      <td>-2.85</td>\n",
       "      <td>0.92</td>\n",
       "      <td>5.51</td>\n",
       "      <td>-6.64</td>\n",
       "      <td>Hatchback</td>\n",
       "    </tr>\n",
       "    <tr>\n",
       "      <th>4</th>\n",
       "      <td>5</td>\n",
       "      <td>0.00</td>\n",
       "      <td>2.68</td>\n",
       "      <td>-4.15</td>\n",
       "      <td>0.85</td>\n",
       "      <td>5.58</td>\n",
       "      <td>SUV</td>\n",
       "    </tr>\n",
       "  </tbody>\n",
       "</table>\n",
       "</div>"
      ],
      "text/plain": [
       "   CarID  ManHI  ManBI  IntI  HVACi  Safety    CarType\n",
       "0      1  -5.27  -1.30  2.86  -4.85    4.04        SUV\n",
       "1      2  -4.82  -5.38  9.72  -0.97   -4.57  Hatchback\n",
       "2      3   9.57  -7.50 -7.61   1.33   -5.10  Hatchback\n",
       "3      4   2.84  -2.85  0.92   5.51   -6.64  Hatchback\n",
       "4      5   0.00   2.68 -4.15   0.85    5.58        SUV"
      ]
     },
     "execution_count": 3,
     "metadata": {},
     "output_type": "execute_result"
    }
   ],
   "source": [
    "crash_data.head()"
   ]
  },
  {
   "cell_type": "code",
   "execution_count": 4,
   "id": "cd836d8d",
   "metadata": {},
   "outputs": [
    {
     "data": {
      "text/plain": [
       "(100, 7)"
      ]
     },
     "execution_count": 4,
     "metadata": {},
     "output_type": "execute_result"
    }
   ],
   "source": [
    "crash_data.shape"
   ]
  },
  {
   "cell_type": "code",
   "execution_count": 5,
   "id": "44154da1",
   "metadata": {},
   "outputs": [
    {
     "data": {
      "text/html": [
       "<div>\n",
       "<style scoped>\n",
       "    .dataframe tbody tr th:only-of-type {\n",
       "        vertical-align: middle;\n",
       "    }\n",
       "\n",
       "    .dataframe tbody tr th {\n",
       "        vertical-align: top;\n",
       "    }\n",
       "\n",
       "    .dataframe thead th {\n",
       "        text-align: right;\n",
       "    }\n",
       "</style>\n",
       "<table border=\"1\" class=\"dataframe\">\n",
       "  <thead>\n",
       "    <tr style=\"text-align: right;\">\n",
       "      <th></th>\n",
       "      <th>CarID</th>\n",
       "      <th>ManHI</th>\n",
       "      <th>ManBI</th>\n",
       "      <th>IntI</th>\n",
       "      <th>HVACi</th>\n",
       "      <th>Safety</th>\n",
       "    </tr>\n",
       "  </thead>\n",
       "  <tbody>\n",
       "    <tr>\n",
       "      <th>count</th>\n",
       "      <td>100.000000</td>\n",
       "      <td>100.000000</td>\n",
       "      <td>100.000000</td>\n",
       "      <td>100.000000</td>\n",
       "      <td>100.000000</td>\n",
       "      <td>100.000000</td>\n",
       "    </tr>\n",
       "    <tr>\n",
       "      <th>mean</th>\n",
       "      <td>50.500000</td>\n",
       "      <td>-0.065400</td>\n",
       "      <td>-0.676600</td>\n",
       "      <td>-0.003100</td>\n",
       "      <td>0.240500</td>\n",
       "      <td>0.473200</td>\n",
       "    </tr>\n",
       "    <tr>\n",
       "      <th>std</th>\n",
       "      <td>29.011492</td>\n",
       "      <td>5.863313</td>\n",
       "      <td>5.332167</td>\n",
       "      <td>5.621494</td>\n",
       "      <td>5.726067</td>\n",
       "      <td>5.840216</td>\n",
       "    </tr>\n",
       "    <tr>\n",
       "      <th>min</th>\n",
       "      <td>1.000000</td>\n",
       "      <td>-9.940000</td>\n",
       "      <td>-9.940000</td>\n",
       "      <td>-9.990000</td>\n",
       "      <td>-9.820000</td>\n",
       "      <td>-9.800000</td>\n",
       "    </tr>\n",
       "    <tr>\n",
       "      <th>25%</th>\n",
       "      <td>25.750000</td>\n",
       "      <td>-5.312500</td>\n",
       "      <td>-4.557500</td>\n",
       "      <td>-4.760000</td>\n",
       "      <td>-5.177500</td>\n",
       "      <td>-5.017500</td>\n",
       "    </tr>\n",
       "    <tr>\n",
       "      <th>50%</th>\n",
       "      <td>50.500000</td>\n",
       "      <td>0.665000</td>\n",
       "      <td>-1.510000</td>\n",
       "      <td>0.275000</td>\n",
       "      <td>0.870000</td>\n",
       "      <td>0.730000</td>\n",
       "    </tr>\n",
       "    <tr>\n",
       "      <th>75%</th>\n",
       "      <td>75.250000</td>\n",
       "      <td>5.065000</td>\n",
       "      <td>3.362500</td>\n",
       "      <td>4.837500</td>\n",
       "      <td>5.185000</td>\n",
       "      <td>4.652500</td>\n",
       "    </tr>\n",
       "    <tr>\n",
       "      <th>max</th>\n",
       "      <td>100.000000</td>\n",
       "      <td>9.570000</td>\n",
       "      <td>9.610000</td>\n",
       "      <td>9.720000</td>\n",
       "      <td>9.890000</td>\n",
       "      <td>9.990000</td>\n",
       "    </tr>\n",
       "  </tbody>\n",
       "</table>\n",
       "</div>"
      ],
      "text/plain": [
       "            CarID       ManHI       ManBI        IntI       HVACi      Safety\n",
       "count  100.000000  100.000000  100.000000  100.000000  100.000000  100.000000\n",
       "mean    50.500000   -0.065400   -0.676600   -0.003100    0.240500    0.473200\n",
       "std     29.011492    5.863313    5.332167    5.621494    5.726067    5.840216\n",
       "min      1.000000   -9.940000   -9.940000   -9.990000   -9.820000   -9.800000\n",
       "25%     25.750000   -5.312500   -4.557500   -4.760000   -5.177500   -5.017500\n",
       "50%     50.500000    0.665000   -1.510000    0.275000    0.870000    0.730000\n",
       "75%     75.250000    5.065000    3.362500    4.837500    5.185000    4.652500\n",
       "max    100.000000    9.570000    9.610000    9.720000    9.890000    9.990000"
      ]
     },
     "execution_count": 5,
     "metadata": {},
     "output_type": "execute_result"
    }
   ],
   "source": [
    "crash_data.describe()"
   ]
  },
  {
   "cell_type": "code",
   "execution_count": 6,
   "id": "bfb654f6",
   "metadata": {},
   "outputs": [
    {
     "data": {
      "text/plain": [
       "<AxesSubplot:>"
      ]
     },
     "execution_count": 6,
     "metadata": {},
     "output_type": "execute_result"
    },
    {
     "data": {
      "image/png": "[encoded data removed]",
      "text/plain": [
       "<Figure size 432x288 with 2 Axes>"
      ]
     },
     "metadata": {},
     "output_type": "display_data"
    }
   ],
   "source": [
    "sns.heatmap(crash_data.isnull(), yticklabels = False, cmap = \"viridis\") #no null values"
   ]
  },
  {
   "cell_type": "code",
   "execution_count": 8,
   "id": "82ea9b76",
   "metadata": {},
   "outputs": [
    {
     "data": {
      "text/html": [
       "<div>\n",
       "<style scoped>\n",
       "    .dataframe tbody tr th:only-of-type {\n",
       "        vertical-align: middle;\n",
       "    }\n",
       "\n",
       "    .dataframe tbody tr th {\n",
       "        vertical-align: top;\n",
       "    }\n",
       "\n",
       "    .dataframe thead th {\n",
       "        text-align: right;\n",
       "    }\n",
       "</style>\n",
       "<table border=\"1\" class=\"dataframe\">\n",
       "  <thead>\n",
       "    <tr style=\"text-align: right;\">\n",
       "      <th></th>\n",
       "      <th>CarID</th>\n",
       "      <th>ManHI</th>\n",
       "      <th>ManBI</th>\n",
       "      <th>IntI</th>\n",
       "      <th>HVACi</th>\n",
       "      <th>Safety</th>\n",
       "      <th>CarType</th>\n",
       "    </tr>\n",
       "  </thead>\n",
       "  <tbody>\n",
       "    <tr>\n",
       "      <th>0</th>\n",
       "      <td>1</td>\n",
       "      <td>-5.27</td>\n",
       "      <td>-1.30</td>\n",
       "      <td>2.86</td>\n",
       "      <td>-4.85</td>\n",
       "      <td>4.04</td>\n",
       "      <td>SUV</td>\n",
       "    </tr>\n",
       "    <tr>\n",
       "      <th>1</th>\n",
       "      <td>2</td>\n",
       "      <td>-4.82</td>\n",
       "      <td>-5.38</td>\n",
       "      <td>9.72</td>\n",
       "      <td>-0.97</td>\n",
       "      <td>-4.57</td>\n",
       "      <td>Hatchback</td>\n",
       "    </tr>\n",
       "    <tr>\n",
       "      <th>2</th>\n",
       "      <td>3</td>\n",
       "      <td>9.57</td>\n",
       "      <td>-7.50</td>\n",
       "      <td>-7.61</td>\n",
       "      <td>1.33</td>\n",
       "      <td>-5.10</td>\n",
       "      <td>Hatchback</td>\n",
       "    </tr>\n",
       "    <tr>\n",
       "      <th>3</th>\n",
       "      <td>4</td>\n",
       "      <td>2.84</td>\n",
       "      <td>-2.85</td>\n",
       "      <td>0.92</td>\n",
       "      <td>5.51</td>\n",
       "      <td>-6.64</td>\n",
       "      <td>Hatchback</td>\n",
       "    </tr>\n",
       "    <tr>\n",
       "      <th>4</th>\n",
       "      <td>5</td>\n",
       "      <td>0.00</td>\n",
       "      <td>2.68</td>\n",
       "      <td>-4.15</td>\n",
       "      <td>0.85</td>\n",
       "      <td>5.58</td>\n",
       "      <td>SUV</td>\n",
       "    </tr>\n",
       "  </tbody>\n",
       "</table>\n",
       "</div>"
      ],
      "text/plain": [
       "   CarID  ManHI  ManBI  IntI  HVACi  Safety    CarType\n",
       "0      1  -5.27  -1.30  2.86  -4.85    4.04        SUV\n",
       "1      2  -4.82  -5.38  9.72  -0.97   -4.57  Hatchback\n",
       "2      3   9.57  -7.50 -7.61   1.33   -5.10  Hatchback\n",
       "3      4   2.84  -2.85  0.92   5.51   -6.64  Hatchback\n",
       "4      5   0.00   2.68 -4.15   0.85    5.58        SUV"
      ]
     },
     "execution_count": 8,
     "metadata": {},
     "output_type": "execute_result"
    }
   ],
   "source": [
    "crash_data.head()"
   ]
  },
  {
   "cell_type": "code",
   "execution_count": 10,
   "id": "9ebc1350",
   "metadata": {},
   "outputs": [],
   "source": [
    "cars = crash_data.drop(\"CarID\", axis = 1)"
   ]
  },
  {
   "cell_type": "code",
   "execution_count": 11,
   "id": "7cc582cd",
   "metadata": {},
   "outputs": [
    {
     "data": {
      "text/html": [
       "<div>\n",
       "<style scoped>\n",
       "    .dataframe tbody tr th:only-of-type {\n",
       "        vertical-align: middle;\n",
       "    }\n",
       "\n",
       "    .dataframe tbody tr th {\n",
       "        vertical-align: top;\n",
       "    }\n",
       "\n",
       "    .dataframe thead th {\n",
       "        text-align: right;\n",
       "    }\n",
       "</style>\n",
       "<table border=\"1\" class=\"dataframe\">\n",
       "  <thead>\n",
       "    <tr style=\"text-align: right;\">\n",
       "      <th></th>\n",
       "      <th>ManHI</th>\n",
       "      <th>ManBI</th>\n",
       "      <th>IntI</th>\n",
       "      <th>HVACi</th>\n",
       "      <th>Safety</th>\n",
       "      <th>CarType</th>\n",
       "    </tr>\n",
       "  </thead>\n",
       "  <tbody>\n",
       "    <tr>\n",
       "      <th>0</th>\n",
       "      <td>-5.27</td>\n",
       "      <td>-1.30</td>\n",
       "      <td>2.86</td>\n",
       "      <td>-4.85</td>\n",
       "      <td>4.04</td>\n",
       "      <td>SUV</td>\n",
       "    </tr>\n",
       "    <tr>\n",
       "      <th>1</th>\n",
       "      <td>-4.82</td>\n",
       "      <td>-5.38</td>\n",
       "      <td>9.72</td>\n",
       "      <td>-0.97</td>\n",
       "      <td>-4.57</td>\n",
       "      <td>Hatchback</td>\n",
       "    </tr>\n",
       "    <tr>\n",
       "      <th>2</th>\n",
       "      <td>9.57</td>\n",
       "      <td>-7.50</td>\n",
       "      <td>-7.61</td>\n",
       "      <td>1.33</td>\n",
       "      <td>-5.10</td>\n",
       "      <td>Hatchback</td>\n",
       "    </tr>\n",
       "    <tr>\n",
       "      <th>3</th>\n",
       "      <td>2.84</td>\n",
       "      <td>-2.85</td>\n",
       "      <td>0.92</td>\n",
       "      <td>5.51</td>\n",
       "      <td>-6.64</td>\n",
       "      <td>Hatchback</td>\n",
       "    </tr>\n",
       "    <tr>\n",
       "      <th>4</th>\n",
       "      <td>0.00</td>\n",
       "      <td>2.68</td>\n",
       "      <td>-4.15</td>\n",
       "      <td>0.85</td>\n",
       "      <td>5.58</td>\n",
       "      <td>SUV</td>\n",
       "    </tr>\n",
       "  </tbody>\n",
       "</table>\n",
       "</div>"
      ],
      "text/plain": [
       "   ManHI  ManBI  IntI  HVACi  Safety    CarType\n",
       "0  -5.27  -1.30  2.86  -4.85    4.04        SUV\n",
       "1  -4.82  -5.38  9.72  -0.97   -4.57  Hatchback\n",
       "2   9.57  -7.50 -7.61   1.33   -5.10  Hatchback\n",
       "3   2.84  -2.85  0.92   5.51   -6.64  Hatchback\n",
       "4   0.00   2.68 -4.15   0.85    5.58        SUV"
      ]
     },
     "execution_count": 11,
     "metadata": {},
     "output_type": "execute_result"
    }
   ],
   "source": [
    "cars.head()"
   ]
  },
  {
   "cell_type": "code",
   "execution_count": 12,
   "id": "e3725bbd",
   "metadata": {},
   "outputs": [],
   "source": [
    "X = cars.drop(\"CarType\", axis = 1)\n",
    "y = cars.CarType"
   ]
  },
  {
   "cell_type": "code",
   "execution_count": 24,
   "id": "e6009e60",
   "metadata": {},
   "outputs": [],
   "source": [
    "X_train, X_test, y_train, y_test = train_test_split(X, y, test_size=0.20, random_state= 1)"
   ]
  },
  {
   "cell_type": "markdown",
   "id": "bd98a2d4",
   "metadata": {},
   "source": [
    "# Logistic Regression"
   ]
  },
  {
   "cell_type": "code",
   "execution_count": 16,
   "id": "237f1fb2",
   "metadata": {},
   "outputs": [],
   "source": [
    "logmodel = LogisticRegression(solver = \"liblinear\")"
   ]
  },
  {
   "cell_type": "code",
   "execution_count": 18,
   "id": "4d82fe70",
   "metadata": {},
   "outputs": [
    {
     "data": {
      "text/plain": [
       "LogisticRegression(solver='liblinear')"
      ]
     },
     "execution_count": 18,
     "metadata": {},
     "output_type": "execute_result"
    }
   ],
   "source": [
    "logmodel.fit(X_train,y_train)"
   ]
  },
  {
   "cell_type": "code",
   "execution_count": 19,
   "id": "8750a928",
   "metadata": {},
   "outputs": [
    {
     "data": {
      "text/plain": [
       "array(['Hatchback', 'Hatchback', 'SUV', 'SUV', 'SUV', 'Hatchback', 'SUV',\n",
       "       'Hatchback', 'Hatchback', 'Hatchback', 'SUV', 'Hatchback', 'SUV',\n",
       "       'Hatchback', 'SUV', 'Hatchback', 'Hatchback', 'SUV', 'Hatchback',\n",
       "       'Hatchback'], dtype=object)"
      ]
     },
     "execution_count": 19,
     "metadata": {},
     "output_type": "execute_result"
    }
   ],
   "source": [
    "logmodel.predict(X_test)"
   ]
  },
  {
   "cell_type": "code",
   "execution_count": 21,
   "id": "8948bbb1",
   "metadata": {},
   "outputs": [
    {
     "data": {
      "text/plain": [
       "0.95"
      ]
     },
     "execution_count": 21,
     "metadata": {},
     "output_type": "execute_result"
    }
   ],
   "source": [
    "logmodel.score(X_test,y_test) #accuracy 95%"
   ]
  },
  {
   "cell_type": "markdown",
   "id": "b77b9b07",
   "metadata": {},
   "source": [
    "# Decision Tree"
   ]
  },
  {
   "cell_type": "code",
   "execution_count": 27,
   "id": "1ad72e7e",
   "metadata": {},
   "outputs": [],
   "source": [
    "tmodel = tree.DecisionTreeClassifier()"
   ]
  },
  {
   "cell_type": "code",
   "execution_count": 28,
   "id": "f8e11dec",
   "metadata": {},
   "outputs": [
    {
     "data": {
      "text/plain": [
       "DecisionTreeClassifier()"
      ]
     },
     "execution_count": 28,
     "metadata": {},
     "output_type": "execute_result"
    }
   ],
   "source": [
    "tmodel.fit(X_train,y_train)"
   ]
  },
  {
   "cell_type": "code",
   "execution_count": 29,
   "id": "bc4e79aa",
   "metadata": {},
   "outputs": [
    {
     "data": {
      "text/plain": [
       "array(['Hatchback', 'SUV', 'SUV', 'SUV', 'SUV', 'SUV', 'SUV', 'Hatchback',\n",
       "       'Hatchback', 'Hatchback', 'SUV', 'SUV', 'Hatchback', 'Hatchback',\n",
       "       'SUV', 'Hatchback', 'Hatchback', 'Hatchback', 'SUV', 'Hatchback'],\n",
       "      dtype=object)"
      ]
     },
     "execution_count": 29,
     "metadata": {},
     "output_type": "execute_result"
    }
   ],
   "source": [
    "tmodel.predict(X_test)"
   ]
  },
  {
   "cell_type": "code",
   "execution_count": 30,
   "id": "ffc4c520",
   "metadata": {},
   "outputs": [
    {
     "data": {
      "text/plain": [
       "0.75"
      ]
     },
     "execution_count": 30,
     "metadata": {},
     "output_type": "execute_result"
    }
   ],
   "source": [
    "tmodel.score(X_test,y_test)"
   ]
  },
  {
   "cell_type": "markdown",
   "id": "b7beef2c",
   "metadata": {},
   "source": [
    "# Random Forest"
   ]
  },
  {
   "cell_type": "code",
   "execution_count": 32,
   "id": "43c2e6e6",
   "metadata": {},
   "outputs": [],
   "source": [
    "fmodel = RandomForestClassifier(n_estimators = 50)"
   ]
  },
  {
   "cell_type": "code",
   "execution_count": 33,
   "id": "2f4b6520",
   "metadata": {},
   "outputs": [
    {
     "data": {
      "text/plain": [
       "RandomForestClassifier(n_estimators=50)"
      ]
     },
     "execution_count": 33,
     "metadata": {},
     "output_type": "execute_result"
    }
   ],
   "source": [
    "fmodel.fit(X_train,y_train)"
   ]
  },
  {
   "cell_type": "code",
   "execution_count": 34,
   "id": "3412e4b1",
   "metadata": {},
   "outputs": [
    {
     "data": {
      "text/plain": [
       "array(['Hatchback', 'Hatchback', 'SUV', 'SUV', 'SUV', 'SUV', 'SUV',\n",
       "       'Hatchback', 'Hatchback', 'Hatchback', 'SUV', 'Hatchback',\n",
       "       'Hatchback', 'Hatchback', 'SUV', 'Hatchback', 'Hatchback',\n",
       "       'Hatchback', 'Hatchback', 'Hatchback'], dtype=object)"
      ]
     },
     "execution_count": 34,
     "metadata": {},
     "output_type": "execute_result"
    }
   ],
   "source": [
    "fmodel.predict(X_test)"
   ]
  },
  {
   "cell_type": "code",
   "execution_count": 35,
   "id": "210ec5cf",
   "metadata": {},
   "outputs": [
    {
     "data": {
      "text/plain": [
       "0.8"
      ]
     },
     "execution_count": 35,
     "metadata": {},
     "output_type": "execute_result"
    }
   ],
   "source": [
    "fmodel.score(X_test,y_test)"
   ]
  },
  {
   "cell_type": "code",
   "execution_count": null,
   "id": "1e761ec7",
   "metadata": {},
   "outputs": [],
   "source": []
  }
 ],
 "metadata": {
  "kernelspec": {
   "display_name": "Python 3",
   "language": "python",
   "name": "python3"
  },
  "language_info": {
   "codemirror_mode": {
    "name": "ipython",
    "version": 3
   },
   "file_extension": ".py",
   "mimetype": "text/x-python",
   "name": "python",
   "nbconvert_exporter": "python",
   "pygments_lexer": "ipython3",
   "version": "3.8.8"
  }
 },
 "nbformat": 4,
 "nbformat_minor": 5
}
